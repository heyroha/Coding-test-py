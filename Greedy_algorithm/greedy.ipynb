{
  "nbformat": 4,
  "nbformat_minor": 0,
  "metadata": {
    "colab": {
      "provenance": [],
      "toc_visible": true,
      "authorship_tag": "ABX9TyNf6y1UZKWn4zvQ7blNcd9v",
      "include_colab_link": true
    },
    "kernelspec": {
      "name": "python3",
      "display_name": "Python 3"
    },
    "language_info": {
      "name": "python"
    }
  },
  "cells": [
    {
      "cell_type": "markdown",
      "metadata": {
        "id": "view-in-github",
        "colab_type": "text"
      },
      "source": [
        "<a href=\"https://colab.research.google.com/github/heyroha/Coding-test-py/blob/main/Greedy_algorithm/greedy.ipynb\" target=\"_parent\"><img src=\"https://colab.research.google.com/assets/colab-badge.svg\" alt=\"Open In Colab\"/></a>"
      ]
    },
    {
      "cell_type": "markdown",
      "source": [
        "# 그리디 알고리즘"
      ],
      "metadata": {
        "id": "ux2wMQEisD1-"
      }
    },
    {
      "cell_type": "markdown",
      "source": [
        "## 예제\n",
        "<출처: http://xn--https-g0u//www.youtube.com/watch?v=2zjoKjt97vQ&list=PLRx0vPvlEmdAghTr5mXQxGpHjWqSz0dgC&index=2>"
      ],
      "metadata": {
        "id": "16dHxfrDsG04"
      }
    },
    {
      "cell_type": "code",
      "source": [
        "# 거스름돈\n",
        "n = 1260\n",
        "cnt = 0\n",
        "\n",
        "cash = [500,100,50,10]\n",
        "\n",
        "for coin in cash:\n",
        "  cnt += n //coin\n",
        "  n %= coin\n",
        "\n",
        "print(cnt)"
      ],
      "metadata": {
        "colab": {
          "base_uri": "https://localhost:8080/"
        },
        "id": "NbGtgLdykzbD",
        "outputId": "4abe4a49-9969-4b17-eb3b-91ee6b13f251"
      },
      "execution_count": 6,
      "outputs": [
        {
          "output_type": "stream",
          "name": "stdout",
          "text": [
            "6\n"
          ]
        }
      ]
    },
    {
      "cell_type": "code",
      "source": [
        "# 1이 될 때까지\n",
        "n,k = map(int, input().split())\n",
        "\n",
        "result = 0\n",
        "\n",
        "while True:\n",
        "  target = (n//k) * k\n",
        "  result += (n-target)\n",
        "  n = target\n",
        "  if n < k:\n",
        "    break\n",
        "  result += 1\n",
        "  n //= k\n",
        "\n",
        "result += (n-1)\n",
        "print(result)\n"
      ],
      "metadata": {
        "colab": {
          "base_uri": "https://localhost:8080/"
        },
        "id": "Jufaz-lD6n8E",
        "outputId": "a62c559e-7a3d-4e0a-dd59-dcee1b749abf"
      },
      "execution_count": 3,
      "outputs": [
        {
          "output_type": "stream",
          "name": "stdout",
          "text": [
            "25 3\n",
            "6\n"
          ]
        }
      ]
    },
    {
      "cell_type": "code",
      "source": [
        "# 곱하기 혹은 더하기\n",
        "\n",
        "data = input()\n",
        "\n",
        "result = int(data[0])\n",
        "\n",
        "for i in data[1:]:\n",
        "  if result <= 1 or int(i)<= 1:\n",
        "    result += int(i)\n",
        "  else:\n",
        "    result *= int(i)\n",
        "\n",
        "print(result)\n",
        ""
      ],
      "metadata": {
        "colab": {
          "base_uri": "https://localhost:8080/"
        },
        "id": "OY39Ob8_oxhp",
        "outputId": "ed9ec00f-b059-4081-c994-a163e9c53280"
      },
      "execution_count": 20,
      "outputs": [
        {
          "output_type": "stream",
          "name": "stdout",
          "text": [
            "02984\n",
            "576\n"
          ]
        }
      ]
    },
    {
      "cell_type": "code",
      "source": [
        "# 모험가 길드 문제\n",
        "\n",
        "n =int,input()\n",
        "m = list(map(int,input().split()))\n",
        "m.sort()\n",
        "\n",
        "result = 0 # 총 그룹의 수\n",
        "cnt = 0 # 현재 그룹에 포함된 모험가의 수\n",
        "\n",
        "for i in m:\n",
        "  cnt += 1\n",
        "  if cnt >= i:\n",
        "    result += 1\n",
        "    cnt = 0\n",
        "\n",
        "print(result)"
      ],
      "metadata": {
        "colab": {
          "base_uri": "https://localhost:8080/"
        },
        "id": "8AHCuNburYXd",
        "outputId": "5858e4d0-039c-426f-9a2b-f5fdbdce46fe"
      },
      "execution_count": 2,
      "outputs": [
        {
          "output_type": "stream",
          "name": "stdout",
          "text": [
            "5\n",
            "3 2 2 2 1\n",
            "2\n"
          ]
        }
      ]
    },
    {
      "cell_type": "markdown",
      "source": [
        "## 백준\n",
        "<문제집 출처: https://www.acmicpc.net/workbook/view/7320>\n"
      ],
      "metadata": {
        "id": "7DR265kmshNq"
      }
    },
    {
      "cell_type": "code",
      "source": [
        "# 2847: 게임을 만든 동준이\n",
        "# 마지막 줄을 제일 큰 점수가 되어야 한다.\n",
        "\n",
        "n = int(input())\n",
        "scores = []\n",
        "\n",
        "for i in range(n):\n",
        "  scores.append(int(input()))\n",
        "\n",
        "cnt = 0\n",
        "\n",
        "\n",
        "for i in range(n-2,-1,-1):\n",
        "  if scores[i] >= scores[i+1]:\n",
        "    cnt += scores[i]-(scores[i+1]-1)\n",
        "    scores[i] = scores[i+1]-1\n",
        "\n",
        "print(cnt)\n",
        "\n",
        "\n",
        "\n",
        "\n",
        "\n"
      ],
      "metadata": {
        "colab": {
          "base_uri": "https://localhost:8080/"
        },
        "id": "ESovTLkgsntj",
        "outputId": "058fa534-70b0-48b7-a1ba-1ef38a0961ee"
      },
      "execution_count": 42,
      "outputs": [
        {
          "output_type": "stream",
          "name": "stdout",
          "text": [
            "3\n",
            "5\n",
            "5\n",
            "5\n",
            "3\n"
          ]
        }
      ]
    },
    {
      "cell_type": "code",
      "source": [
        "# 2720 세탁소 사장 동혁\n",
        "\n",
        "n = int(input())\n",
        "cash = []\n",
        "coin = [25, 10, 5, 1] # 거스름돈 동전\n",
        "\n",
        "for i in range(n):\n",
        "  cash.append(int(input()))\n",
        "\n",
        "\n",
        "for c in cash:\n",
        "  cnt = 0\n",
        "  for i in coin:\n",
        "    cnt = c // i\n",
        "    c %= i\n",
        "    print(cnt, end=' ')\n",
        "  print()\n",
        "\n",
        ""
      ],
      "metadata": {
        "colab": {
          "base_uri": "https://localhost:8080/"
        },
        "id": "zpMZzJpOdPy8",
        "outputId": "aa04f0ae-a54d-4fd8-dcc2-943aad454d8d"
      },
      "execution_count": 44,
      "outputs": [
        {
          "output_type": "stream",
          "name": "stdout",
          "text": [
            "3\n",
            "124\n",
            "25\n",
            "194\n",
            "4 2 0 4 \n",
            "1 0 0 0 \n",
            "7 1 1 4 \n"
          ]
        }
      ]
    },
    {
      "cell_type": "code",
      "source": [
        "# 5585 거스름돈\n",
        "\n",
        "n = 1000 - int(input())\n",
        "\n",
        "coin = [500, 100, 50, 10, 5, 1]\n",
        "\n",
        "cnt = 0\n",
        "\n",
        "for i in coin:\n",
        "  cnt += n // i\n",
        "  n %= i\n",
        "  if n == 0:\n",
        "    break\n",
        "\n",
        "print(cnt)\n",
        "\n"
      ],
      "metadata": {
        "colab": {
          "base_uri": "https://localhost:8080/"
        },
        "id": "5IMYbgg39o77",
        "outputId": "833598da-8302-4600-9fd4-db077c4e635b"
      },
      "execution_count": 46,
      "outputs": [
        {
          "output_type": "stream",
          "name": "stdout",
          "text": [
            "1\n",
            "15\n"
          ]
        }
      ]
    },
    {
      "cell_type": "markdown",
      "source": [
        "---"
      ],
      "metadata": {
        "id": "BU-555ohDFnf"
      }
    },
    {
      "cell_type": "code",
      "source": [
        "# 1072 게임\n",
        "# 이분탐색 문제\n",
        "\n",
        "import math\n",
        "\n",
        "x, y = map(int, input().split())\n",
        "z = int(y/x*100)\n",
        "\n",
        "if z >= 99:\n",
        "  print(-1)\n",
        "else:\n",
        "  y_hat = ((z+1) * x)/100\n",
        "  cnt = math.ceil(y_hat)- y\n",
        "\n",
        "print(cnt)"
      ],
      "metadata": {
        "colab": {
          "base_uri": "https://localhost:8080/"
        },
        "id": "Cy8B1Po3_Wuy",
        "outputId": "417a1184-164b-4bdd-f9da-3e00c34939c0"
      },
      "execution_count": 66,
      "outputs": [
        {
          "output_type": "stream",
          "name": "stdout",
          "text": [
            "99000 0\n",
            "990\n"
          ]
        }
      ]
    },
    {
      "cell_type": "code",
      "source": [
        "y_hat/100"
      ],
      "metadata": {
        "colab": {
          "base_uri": "https://localhost:8080/"
        },
        "id": "hElF4I6uCAFs",
        "outputId": "c321c19d-043d-41b9-d9a0-f26dd1f45939"
      },
      "execution_count": 64,
      "outputs": [
        {
          "output_type": "execute_result",
          "data": {
            "text/plain": [
              "81.0"
            ]
          },
          "metadata": {},
          "execution_count": 64
        }
      ]
    },
    {
      "cell_type": "code",
      "source": [
        "z"
      ],
      "metadata": {
        "colab": {
          "base_uri": "https://localhost:8080/"
        },
        "id": "UNR2Y5wlEF1m",
        "outputId": "f10ecb6a-f397-4301-9a56-9e19e45591bf"
      },
      "execution_count": 65,
      "outputs": [
        {
          "output_type": "execute_result",
          "data": {
            "text/plain": [
              "80"
            ]
          },
          "metadata": {},
          "execution_count": 65
        }
      ]
    },
    {
      "cell_type": "code",
      "source": [],
      "metadata": {
        "id": "5fkNsShBFl4S"
      },
      "execution_count": null,
      "outputs": []
    }
  ]
}