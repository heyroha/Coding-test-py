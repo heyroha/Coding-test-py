{
  "nbformat": 4,
  "nbformat_minor": 0,
  "metadata": {
    "colab": {
      "provenance": [],
      "authorship_tag": "ABX9TyPon3IyQ6np5/cVVZUgJMR5",
      "include_colab_link": true
    },
    "kernelspec": {
      "name": "python3",
      "display_name": "Python 3"
    },
    "language_info": {
      "name": "python"
    }
  },
  "cells": [
    {
      "cell_type": "markdown",
      "metadata": {
        "id": "view-in-github",
        "colab_type": "text"
      },
      "source": [
        "<a href=\"https://colab.research.google.com/github/heyroha/Coding-test-py/blob/main/binary%20search/binary_search.ipynb\" target=\"_parent\"><img src=\"https://colab.research.google.com/assets/colab-badge.svg\" alt=\"Open In Colab\"/></a>"
      ]
    },
    {
      "cell_type": "markdown",
      "source": [
        "## 백준"
      ],
      "metadata": {
        "id": "pANLcqGJNLSA"
      }
    },
    {
      "cell_type": "code",
      "execution_count": 5,
      "metadata": {
        "colab": {
          "base_uri": "https://localhost:8080/"
        },
        "id": "MFfzYOH2NHO_",
        "outputId": "f2ad79de-5f1d-402e-c7bf-aa716c22b37b"
      },
      "outputs": [
        {
          "output_type": "stream",
          "name": "stdout",
          "text": [
            "10 8\n",
            "1\n"
          ]
        }
      ],
      "source": [
        "# 1072 게임\n",
        "\n",
        "import math\n",
        "\n",
        "x,y = map(int,input().split())\n",
        "z = y * 100 // x\n",
        "\n",
        "if z >= 99:\n",
        "  print(-1)\n",
        "\n",
        "else:\n",
        "  left, right = 1,x\n",
        "  answer = 0\n",
        "  while left <= right:\n",
        "    mid = (left + right) //2\n",
        "    z_new = (y+mid) * 100 // (x+mid)\n",
        "\n",
        "    if z_new > z:\n",
        "      answer = mid\n",
        "      right = mid - 1\n",
        "    else:\n",
        "      left = mid + 1\n",
        "\n",
        "\n",
        "  print(answer)"
      ]
    },
    {
      "cell_type": "code",
      "source": [
        "# 2805 나무 자르기\n",
        "\n",
        "n,m = map(int, input().split())\n",
        "tree = list(map(int, input().split()))\n",
        "\n",
        "\n",
        "up, down = max(tree),0\n",
        "result = 0\n",
        "\n",
        "while down <= up:\n",
        "  mid = (up+down) // 2\n",
        "  cnt = 0\n",
        "\n",
        "  for t in tree:\n",
        "    if t > mid :\n",
        "      cnt += t- mid\n",
        "\n",
        "  if cnt >= m:\n",
        "    result = mid\n",
        "    down = mid + 1\n",
        "\n",
        "  else:\n",
        "    up = mid - 1\n",
        "\n",
        "print(result)"
      ],
      "metadata": {
        "colab": {
          "base_uri": "https://localhost:8080/"
        },
        "id": "dOlP2gnNNv3G",
        "outputId": "0c019a02-98d1-4303-a3d2-08a7598b5a24"
      },
      "execution_count": 8,
      "outputs": [
        {
          "output_type": "stream",
          "name": "stdout",
          "text": [
            "4 7\n",
            "20 15 10 17\n",
            "15\n"
          ]
        }
      ]
    },
    {
      "cell_type": "code",
      "source": [],
      "metadata": {
        "id": "KCsz5o3xZPEw"
      },
      "execution_count": null,
      "outputs": []
    }
  ]
}