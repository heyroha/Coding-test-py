{
  "nbformat": 4,
  "nbformat_minor": 0,
  "metadata": {
    "colab": {
      "provenance": [],
      "authorship_tag": "ABX9TyOU2FxMQRpfEHt1CR04M9Va",
      "include_colab_link": true
    },
    "kernelspec": {
      "name": "python3",
      "display_name": "Python 3"
    },
    "language_info": {
      "name": "python"
    }
  },
  "cells": [
    {
      "cell_type": "markdown",
      "metadata": {
        "id": "view-in-github",
        "colab_type": "text"
      },
      "source": [
        "<a href=\"https://colab.research.google.com/github/heyroha/Coding-test-py/blob/main/Greedy_algorithm/greedy.ipynb\" target=\"_parent\"><img src=\"https://colab.research.google.com/assets/colab-badge.svg\" alt=\"Open In Colab\"/></a>"
      ]
    },
    {
      "cell_type": "markdown",
      "source": [
        "# 그리디 알고리즘"
      ],
      "metadata": {
        "id": "ux2wMQEisD1-"
      }
    },
    {
      "cell_type": "markdown",
      "source": [
        "## 예제\n",
        "<출처: http://xn--https-g0u//www.youtube.com/watch?v=2zjoKjt97vQ&list=PLRx0vPvlEmdAghTr5mXQxGpHjWqSz0dgC&index=2>"
      ],
      "metadata": {
        "id": "16dHxfrDsG04"
      }
    },
    {
      "cell_type": "code",
      "source": [
        "# 거스름돈\n",
        "n = 1260\n",
        "cnt = 0\n",
        "\n",
        "cash = [500,100,50,10]\n",
        "\n",
        "for coin in cash:\n",
        "  cnt += n //coin\n",
        "  n %= coin\n",
        "\n",
        "print(cnt)"
      ],
      "metadata": {
        "colab": {
          "base_uri": "https://localhost:8080/"
        },
        "id": "NbGtgLdykzbD",
        "outputId": "4abe4a49-9969-4b17-eb3b-91ee6b13f251"
      },
      "execution_count": 6,
      "outputs": [
        {
          "output_type": "stream",
          "name": "stdout",
          "text": [
            "6\n"
          ]
        }
      ]
    },
    {
      "cell_type": "code",
      "source": [
        "# 1이 될 때까지\n",
        "n,k = map(int, input().split())\n",
        "\n",
        "result = 0\n",
        "\n",
        "while True:\n",
        "  target = (n//k) * k\n",
        "  result += (n-target)\n",
        "  n = target\n",
        "  if n < k:\n",
        "    break\n",
        "  result += 1\n",
        "  n //= k\n",
        "\n",
        "result += (n-1)\n",
        "print(result)\n"
      ],
      "metadata": {
        "colab": {
          "base_uri": "https://localhost:8080/"
        },
        "id": "Jufaz-lD6n8E",
        "outputId": "a62c559e-7a3d-4e0a-dd59-dcee1b749abf"
      },
      "execution_count": 3,
      "outputs": [
        {
          "output_type": "stream",
          "name": "stdout",
          "text": [
            "25 3\n",
            "6\n"
          ]
        }
      ]
    },
    {
      "cell_type": "code",
      "source": [
        "# 곱하기 혹은 더하기\n",
        "\n",
        "data = input()\n",
        "\n",
        "result = int(data[0])\n",
        "\n",
        "for i in data[1:]:\n",
        "  if result <= 1 or int(i)<= 1:\n",
        "    result += int(i)\n",
        "  else:\n",
        "    result *= int(i)\n",
        "\n",
        "print(result)\n",
        ""
      ],
      "metadata": {
        "colab": {
          "base_uri": "https://localhost:8080/"
        },
        "id": "OY39Ob8_oxhp",
        "outputId": "ed9ec00f-b059-4081-c994-a163e9c53280"
      },
      "execution_count": 20,
      "outputs": [
        {
          "output_type": "stream",
          "name": "stdout",
          "text": [
            "02984\n",
            "576\n"
          ]
        }
      ]
    },
    {
      "cell_type": "code",
      "source": [
        "# 모험가 길드 문제\n",
        "\n"
      ],
      "metadata": {
        "id": "8AHCuNburYXd"
      },
      "execution_count": null,
      "outputs": []
    },
    {
      "cell_type": "markdown",
      "source": [
        "## 백준\n",
        "<문제집 출처: https://www.acmicpc.net/workbook/view/7320>\n"
      ],
      "metadata": {
        "id": "7DR265kmshNq"
      }
    },
    {
      "cell_type": "code",
      "source": [],
      "metadata": {
        "id": "ESovTLkgsntj"
      },
      "execution_count": null,
      "outputs": []
    }
  ]
}